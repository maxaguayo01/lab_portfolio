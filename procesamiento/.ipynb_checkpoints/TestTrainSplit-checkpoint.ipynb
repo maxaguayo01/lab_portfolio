{
 "cells": [
  {
   "cell_type": "markdown",
   "metadata": {},
   "source": [
    "___\n",
    "<img style=\"float: right; margin: 0px 0px 15px 15px;\" src=\"data:image/png;base64,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\" width=\"350px\" height=\"180px\" />\n",
    "\n",
    "\n",
    "# <font color= #8A0829> Laboratorio de Modelado de Datos </font>\n",
    "#### <font color= #2E9AFE> `Martes y Viernes (Videoconferencia) de 13:00 - 15:00 hrs`</font>\n",
    "- <Strong> Sara Eugenia Rodríguez </Strong>\n",
    "- <Strong> Año </Strong>: 2024\n",
    "- <Strong> Email: </Strong>  <font color=\"blue\"> `cd682324@iteso.mx` </font>\n",
    "___\n",
    "\n",
    "\n",
    "### <font color= #2E9AFE> Tema: Entrenamiento y Validación</font>"
   ]
  },
  {
   "cell_type": "markdown",
   "metadata": {},
   "source": [
    "**¿Qué es?**\n",
    "\n",
    "Es una técnica para evaluar el performance de un modelo de machine learning. \n",
    "\n",
    "Puede ser usado para problemas de clasificación y regresión y puede ser usado para cualquier algoritmo de aprendizaje supervisado. \n",
    "\n",
    "**¿Cómo funciona?**\n",
    "\n",
    "Entrenar un modelo supervisado es conceptualmente muy simple e implica los siguientes tres pasos:\n",
    "1. Alimentar/Entrenar el modelo\n",
    "2. Comparar las predicciones de ese entrenamiento con \"la verdad\" \n",
    "3. Mejorar el modelo\n",
    "4. Predecir con datos no vistos\n"
   ]
  },
  {
   "cell_type": "markdown",
   "metadata": {},
   "source": [
    "**¿Porqué?**\n",
    "\n",
    "Nos ayuda a estimar el performance de un modelo en datos nuevos, es decir datos que no se usaron para estimar el modelo. \n",
    "\n",
    "La idea es ajustar un modelo en datos disponibles con entradas y salidas conocidas y luego hacer predicciones sobre nuevos datos futuros donde no tengamos la salida esperada o los valores objetivo. \n",
    "\n",
    "**¿Cuándo funciona?**\n",
    "\n",
    "Cuando tenemos suficientes datos disponibles. El procedimiento de train-test no funciona muy bien cuando los datos disponibles son pocos. \n",
    "\n",
    "La razón es que cuando el conjunto de datos se divide en conjuntos de entrenamiento y de prueba, no habrá suficientes datos en el conjunto de datos de entrenamiento para que el modelo aprenda un mapeo de entradas y salidas. \n",
    "Tampoco habrá datos suficientes en el conjunto de prueba (test) para evaluar el rendimiento del modelo\n",
    "\n",
    "**¿Qué hacer si se tienen datos insuficientes?**\n",
    "\n",
    "Una alternativa es el procedimiento de *K-fold cross-validation*\n",
    "\n",
    "\n",
    "**Entonces...¿cuándo uso el train-test split?**\n",
    "\n",
    "- Cuando no es tan costoso entrenar el modelo\n",
    "- Cuando tenemos bases de datos con muchos datos\n",
    "- Si se necesita estimar una medida de performance rápidamente\n",
    "\n",
    "#### <font color= #2E9AFE> Configuración</font>\n",
    "\n",
    "Parámetro principal de configuración: tamaño de entrenamiento y prueba (porcentaje).\n",
    "\n",
    "Tristemente... no hay una división óptima :( \n",
    "\n",
    "Separaciones más comunes:\n",
    "- Entrenamiento: 80%, Prueba 20%\n",
    "- Entrenamiento: 70%, Prueba 30%\n",
    "- Entrenamiento: 50%, Prueba 50%"
   ]
  },
  {
   "cell_type": "code",
   "execution_count": 1,
   "metadata": {},
   "outputs": [],
   "source": [
    "#Train test split en Python\n",
    "\n",
    "#Librerías\n",
    "from sklearn.datasets import make_blobs\n",
    "from sklearn.model_selection import train_test_split\n",
    "import pandas as pd\n",
    "import numpy as np\n",
    "import matplotlib.pyplot as plt\n",
    "\n",
    "# Crear datos\n",
    "X, y = make_blobs(n_samples=1000, n_features=1, random_state= 42)"
   ]
  },
  {
   "cell_type": "code",
   "execution_count": 2,
   "metadata": {},
   "outputs": [
    {
     "data": {
      "text/html": [
       "<div>\n",
       "<style scoped>\n",
       "    .dataframe tbody tr th:only-of-type {\n",
       "        vertical-align: middle;\n",
       "    }\n",
       "\n",
       "    .dataframe tbody tr th {\n",
       "        vertical-align: top;\n",
       "    }\n",
       "\n",
       "    .dataframe thead th {\n",
       "        text-align: right;\n",
       "    }\n",
       "</style>\n",
       "<table border=\"1\" class=\"dataframe\">\n",
       "  <thead>\n",
       "    <tr style=\"text-align: right;\">\n",
       "      <th></th>\n",
       "      <th>X</th>\n",
       "      <th>y</th>\n",
       "    </tr>\n",
       "  </thead>\n",
       "  <tbody>\n",
       "    <tr>\n",
       "      <th>0</th>\n",
       "      <td>-1.145762</td>\n",
       "      <td>0.0</td>\n",
       "    </tr>\n",
       "    <tr>\n",
       "      <th>1</th>\n",
       "      <td>-2.923729</td>\n",
       "      <td>0.0</td>\n",
       "    </tr>\n",
       "    <tr>\n",
       "      <th>2</th>\n",
       "      <td>8.556176</td>\n",
       "      <td>1.0</td>\n",
       "    </tr>\n",
       "    <tr>\n",
       "      <th>3</th>\n",
       "      <td>4.378852</td>\n",
       "      <td>2.0</td>\n",
       "    </tr>\n",
       "    <tr>\n",
       "      <th>4</th>\n",
       "      <td>11.657858</td>\n",
       "      <td>1.0</td>\n",
       "    </tr>\n",
       "  </tbody>\n",
       "</table>\n",
       "</div>"
      ],
      "text/plain": [
       "           X    y\n",
       "0  -1.145762  0.0\n",
       "1  -2.923729  0.0\n",
       "2   8.556176  1.0\n",
       "3   4.378852  2.0\n",
       "4  11.657858  1.0"
      ]
     },
     "execution_count": 2,
     "metadata": {},
     "output_type": "execute_result"
    }
   ],
   "source": [
    "datos = pd.DataFrame(np.column_stack((X,y)), columns=['X','y'])\n",
    "datos.head()"
   ]
  },
  {
   "cell_type": "code",
   "execution_count": 3,
   "metadata": {},
   "outputs": [
    {
     "data": {
      "text/plain": [
       "y\n",
       "0.0    334\n",
       "1.0    333\n",
       "2.0    333\n",
       "Name: count, dtype: int64"
      ]
     },
     "execution_count": 3,
     "metadata": {},
     "output_type": "execute_result"
    }
   ],
   "source": [
    "datos.y.value_counts()"
   ]
  },
  {
   "cell_type": "code",
   "execution_count": 4,
   "metadata": {},
   "outputs": [
    {
     "data": {
      "text/plain": [
       "(1000, 2)"
      ]
     },
     "execution_count": 4,
     "metadata": {},
     "output_type": "execute_result"
    }
   ],
   "source": [
    "#Tamaño de los datos\n",
    "datos.shape"
   ]
  },
  {
   "cell_type": "code",
   "execution_count": 5,
   "metadata": {},
   "outputs": [
    {
     "name": "stdout",
     "output_type": "stream",
     "text": [
      "Tamaño de X entrenamiento: (700, 1)\n",
      "Tamaño de X prueba: (300, 1)\n",
      "Tamaño de y entrenamiento: (700,)\n",
      "Tamaño de y prueba: (300,)\n"
     ]
    }
   ],
   "source": [
    "# Dividir en train y test\n",
    "X_train, X_test, y_train, y_test = train_test_split(X, y, test_size=0.3)\n",
    "\n",
    " #tomando el 30% de los datos de prueba (test)\n",
    "print(\"Tamaño de X entrenamiento:\",X_train.shape)\n",
    "print(\"Tamaño de X prueba:\",X_test.shape)\n",
    "print(\"Tamaño de y entrenamiento:\",y_train.shape)\n",
    "print(\"Tamaño de y prueba:\",y_test.shape)\n"
   ]
  },
  {
   "cell_type": "code",
   "execution_count": 6,
   "metadata": {},
   "outputs": [
    {
     "data": {
      "text/plain": [
       "array([[ 5.45836357],\n",
       "       [ 5.35327843],\n",
       "       [-2.67525853],\n",
       "       [ 8.43148553],\n",
       "       [-2.99563039]])"
      ]
     },
     "execution_count": 6,
     "metadata": {},
     "output_type": "execute_result"
    }
   ],
   "source": [
    "X_train[:5,:]"
   ]
  },
  {
   "cell_type": "code",
   "execution_count": 7,
   "metadata": {},
   "outputs": [
    {
     "name": "stdout",
     "output_type": "stream",
     "text": [
      "Tamaño de X entrenamiento: (700, 1)\n",
      "Tamaño de X prueba: (300, 1)\n",
      "Tamaño de y entrenamiento: (700,)\n",
      "Tamaño de y prueba: (300,)\n"
     ]
    }
   ],
   "source": [
    "# Dividir en train y test con replicamiento\n",
    "X_train, X_test, y_train, y_test = train_test_split(X, y, test_size=0.3, random_state=42)\n",
    "#añadimos una semilla para que todos tengamos el mismo resultado\n",
    "print(\"Tamaño de X entrenamiento:\",X_train.shape)\n",
    "print(\"Tamaño de X prueba:\",X_test.shape)\n",
    "print(\"Tamaño de y entrenamiento:\",y_train.shape)\n",
    "print(\"Tamaño de y prueba:\",y_test.shape)\n"
   ]
  },
  {
   "cell_type": "code",
   "execution_count": 8,
   "metadata": {},
   "outputs": [
    {
     "data": {
      "text/plain": [
       "array([[ 9.98020814],\n",
       "       [-2.73864808],\n",
       "       [ 7.88886712],\n",
       "       [ 9.00808699],\n",
       "       [-1.79908838]])"
      ]
     },
     "execution_count": 8,
     "metadata": {},
     "output_type": "execute_result"
    }
   ],
   "source": [
    "X_train[:5,:]"
   ]
  },
  {
   "cell_type": "markdown",
   "metadata": {},
   "source": [
    "#### <font color= #2E9AFE> Divisiones estratificadas</font>\n",
    "\n",
    "**Para problemas de clasificación**\n",
    "\n",
    "La mayoría de los problemas de clasificación no tienen un número balanceado de datos para cada etiqueta de clase. \n",
    "Por lo tanto es deseable dividir los datos en conjunto de entrenamiento y prueba de tal manera que se conserven las mismas proporciones de datos en cada clase observada en el conjunto de datos original. \n",
    "\n",
    "Para eso podemos usar la división estratificada de los datos de entrenamiento y prueba"
   ]
  },
  {
   "cell_type": "code",
   "execution_count": 9,
   "metadata": {},
   "outputs": [
    {
     "data": {
      "image/png": "[encoded data removed]",
      "text/plain": [
       "<Figure size 640x480 with 1 Axes>"
      ]
     },
     "metadata": {},
     "output_type": "display_data"
    }
   ],
   "source": [
    "#crear datos imbalanceados\n",
    "X, y = make_blobs(n_samples=[400,50], centers=None, cluster_std=[10.0, 2],random_state=22,n_features=2)\n",
    "\n",
    "Zero0=np.where(y == 0)[0]\n",
    "One1=np.where(y == 1)[0]\n",
    "\n",
    "plt.scatter(X[Zero0,0],X[Zero0,1],color=['red'])\n",
    "plt.scatter(X[One1,0],X[One1,1],color=['green'])\n",
    "plt.show()"
   ]
  },
  {
   "cell_type": "code",
   "execution_count": 10,
   "metadata": {},
   "outputs": [
    {
     "data": {
      "text/plain": [
       "(450,)"
      ]
     },
     "execution_count": 10,
     "metadata": {},
     "output_type": "execute_result"
    }
   ],
   "source": [
    "#tenemos 450 datos en nuestra Y\n",
    "y.shape"
   ]
  },
  {
   "cell_type": "code",
   "execution_count": 11,
   "metadata": {},
   "outputs": [
    {
     "data": {
      "text/html": [
       "<div>\n",
       "<style scoped>\n",
       "    .dataframe tbody tr th:only-of-type {\n",
       "        vertical-align: middle;\n",
       "    }\n",
       "\n",
       "    .dataframe tbody tr th {\n",
       "        vertical-align: top;\n",
       "    }\n",
       "\n",
       "    .dataframe thead th {\n",
       "        text-align: right;\n",
       "    }\n",
       "</style>\n",
       "<table border=\"1\" class=\"dataframe\">\n",
       "  <thead>\n",
       "    <tr style=\"text-align: right;\">\n",
       "      <th></th>\n",
       "      <th>X1</th>\n",
       "      <th>X2</th>\n",
       "      <th>y</th>\n",
       "    </tr>\n",
       "  </thead>\n",
       "  <tbody>\n",
       "    <tr>\n",
       "      <th>0</th>\n",
       "      <td>-13.661564</td>\n",
       "      <td>-1.570388</td>\n",
       "      <td>0.0</td>\n",
       "    </tr>\n",
       "    <tr>\n",
       "      <th>1</th>\n",
       "      <td>7.690015</td>\n",
       "      <td>3.856342</td>\n",
       "      <td>0.0</td>\n",
       "    </tr>\n",
       "    <tr>\n",
       "      <th>2</th>\n",
       "      <td>-0.408269</td>\n",
       "      <td>4.988843</td>\n",
       "      <td>0.0</td>\n",
       "    </tr>\n",
       "    <tr>\n",
       "      <th>3</th>\n",
       "      <td>-5.948700</td>\n",
       "      <td>18.126090</td>\n",
       "      <td>0.0</td>\n",
       "    </tr>\n",
       "    <tr>\n",
       "      <th>4</th>\n",
       "      <td>-19.680768</td>\n",
       "      <td>-12.701575</td>\n",
       "      <td>0.0</td>\n",
       "    </tr>\n",
       "  </tbody>\n",
       "</table>\n",
       "</div>"
      ],
      "text/plain": [
       "          X1         X2    y\n",
       "0 -13.661564  -1.570388  0.0\n",
       "1   7.690015   3.856342  0.0\n",
       "2  -0.408269   4.988843  0.0\n",
       "3  -5.948700  18.126090  0.0\n",
       "4 -19.680768 -12.701575  0.0"
      ]
     },
     "execution_count": 11,
     "metadata": {},
     "output_type": "execute_result"
    }
   ],
   "source": [
    "datos = pd.DataFrame(np.column_stack((X,y)), columns=['X1','X2','y'])\n",
    "datos.head()"
   ]
  },
  {
   "cell_type": "code",
   "execution_count": 12,
   "metadata": {},
   "outputs": [
    {
     "data": {
      "text/plain": [
       "y\n",
       "0.0    400\n",
       "1.0     50\n",
       "Name: count, dtype: int64"
      ]
     },
     "execution_count": 12,
     "metadata": {},
     "output_type": "execute_result"
    }
   ],
   "source": [
    "#¿cuántas clases distintas tiene la variable a predecir (Y)?\n",
    "datos['y'].value_counts()"
   ]
  },
  {
   "cell_type": "code",
   "execution_count": 13,
   "metadata": {},
   "outputs": [
    {
     "data": {
      "image/png": "[encoded data removed]",
      "text/plain": [
       "<Figure size 800x800 with 1 Axes>"
      ]
     },
     "metadata": {},
     "output_type": "display_data"
    }
   ],
   "source": [
    "#¿cuántas clases distintas tiene la variable a predecir (Y)?\n",
    "value_counts = datos['y'].value_counts()\n",
    "plt.figure(figsize=(8, 8))\n",
    "value_counts.plot(kind='pie', autopct='%1.1f%%', startangle=90)\n",
    "plt.gca().set_aspect('equal')\n",
    "plt.title('Distribucion de la variable y')\n",
    "plt.show()"
   ]
  },
  {
   "cell_type": "markdown",
   "metadata": {},
   "source": [
    "Queremos que al hacer nuestra división de train/test quede más o menos la misma distribución de clases."
   ]
  },
  {
   "cell_type": "code",
   "execution_count": 14,
   "metadata": {},
   "outputs": [],
   "source": [
    "# Dividir en train y test CON división estratificada\n",
    "X_train, X_test, y_train, y_test = train_test_split(X, y, test_size=0.3, random_state=42, stratify=y)"
   ]
  },
  {
   "cell_type": "code",
   "execution_count": 15,
   "metadata": {},
   "outputs": [
    {
     "data": {
      "text/plain": [
       "0    280\n",
       "1     35\n",
       "Name: count, dtype: int64"
      ]
     },
     "execution_count": 15,
     "metadata": {},
     "output_type": "execute_result"
    }
   ],
   "source": [
    "#¿cuántas clases distintas tiene la variable a predecir de entrenamiento (Y train)?\n",
    "pd.DataFrame(y_train).value_counts()"
   ]
  },
  {
   "cell_type": "code",
   "execution_count": 16,
   "metadata": {},
   "outputs": [
    {
     "data": {
      "image/png": "[encoded data removed]",
      "text/plain": [
       "<Figure size 800x800 with 1 Axes>"
      ]
     },
     "metadata": {},
     "output_type": "display_data"
    }
   ],
   "source": [
    "#¿cuántas clases distintas tiene la variable a predecir de entrenamiento (Y train)?\n",
    "\n",
    "value_counts = pd.DataFrame(y_train).value_counts()\n",
    "plt.figure(figsize=(8, 8))\n",
    "value_counts.plot(kind='pie', autopct='%1.1f%%', startangle=90)\n",
    "plt.gca().set_aspect('equal')\n",
    "plt.title('Distribucion de la variable y')\n",
    "plt.show()\n"
   ]
  },
  {
   "cell_type": "markdown",
   "metadata": {},
   "source": [
    "### <font color= #2E9AFE> Entrenamiento y prueba para modelos de machine learning</font>\n",
    "\n",
    "#### <font color= blue> Clasificación</font>"
   ]
  },
  {
   "cell_type": "code",
   "execution_count": 17,
   "metadata": {},
   "outputs": [],
   "source": [
    "#Cargar datos\n",
    "data = pd.read_csv('glass.data',header=None)\n",
    "names = ['ID','Indice_Refraccion','Na','Mg','Al','Si','K', 'Ca','Ba','Fe','Tipo_Vidrio']\n",
    "data.columns = names\n",
    "\n",
    "#Separamos las X y las Y\n",
    "X = data.iloc[:, :-1]\n",
    "y = data.iloc[:, -1]"
   ]
  },
  {
   "cell_type": "code",
   "execution_count": 18,
   "metadata": {},
   "outputs": [
    {
     "data": {
      "text/html": [
       "<div>\n",
       "<style scoped>\n",
       "    .dataframe tbody tr th:only-of-type {\n",
       "        vertical-align: middle;\n",
       "    }\n",
       "\n",
       "    .dataframe tbody tr th {\n",
       "        vertical-align: top;\n",
       "    }\n",
       "\n",
       "    .dataframe thead th {\n",
       "        text-align: right;\n",
       "    }\n",
       "</style>\n",
       "<table border=\"1\" class=\"dataframe\">\n",
       "  <thead>\n",
       "    <tr style=\"text-align: right;\">\n",
       "      <th></th>\n",
       "      <th>ID</th>\n",
       "      <th>Indice_Refraccion</th>\n",
       "      <th>Na</th>\n",
       "      <th>Mg</th>\n",
       "      <th>Al</th>\n",
       "      <th>Si</th>\n",
       "      <th>K</th>\n",
       "      <th>Ca</th>\n",
       "      <th>Ba</th>\n",
       "      <th>Fe</th>\n",
       "      <th>Tipo_Vidrio</th>\n",
       "    </tr>\n",
       "  </thead>\n",
       "  <tbody>\n",
       "    <tr>\n",
       "      <th>0</th>\n",
       "      <td>1</td>\n",
       "      <td>1.52101</td>\n",
       "      <td>13.64</td>\n",
       "      <td>4.49</td>\n",
       "      <td>1.10</td>\n",
       "      <td>71.78</td>\n",
       "      <td>0.06</td>\n",
       "      <td>8.75</td>\n",
       "      <td>0.0</td>\n",
       "      <td>0.0</td>\n",
       "      <td>1</td>\n",
       "    </tr>\n",
       "    <tr>\n",
       "      <th>1</th>\n",
       "      <td>2</td>\n",
       "      <td>1.51761</td>\n",
       "      <td>13.89</td>\n",
       "      <td>3.60</td>\n",
       "      <td>1.36</td>\n",
       "      <td>72.73</td>\n",
       "      <td>0.48</td>\n",
       "      <td>7.83</td>\n",
       "      <td>0.0</td>\n",
       "      <td>0.0</td>\n",
       "      <td>1</td>\n",
       "    </tr>\n",
       "    <tr>\n",
       "      <th>2</th>\n",
       "      <td>3</td>\n",
       "      <td>1.51618</td>\n",
       "      <td>13.53</td>\n",
       "      <td>3.55</td>\n",
       "      <td>1.54</td>\n",
       "      <td>72.99</td>\n",
       "      <td>0.39</td>\n",
       "      <td>7.78</td>\n",
       "      <td>0.0</td>\n",
       "      <td>0.0</td>\n",
       "      <td>1</td>\n",
       "    </tr>\n",
       "    <tr>\n",
       "      <th>3</th>\n",
       "      <td>4</td>\n",
       "      <td>1.51766</td>\n",
       "      <td>13.21</td>\n",
       "      <td>3.69</td>\n",
       "      <td>1.29</td>\n",
       "      <td>72.61</td>\n",
       "      <td>0.57</td>\n",
       "      <td>8.22</td>\n",
       "      <td>0.0</td>\n",
       "      <td>0.0</td>\n",
       "      <td>1</td>\n",
       "    </tr>\n",
       "    <tr>\n",
       "      <th>4</th>\n",
       "      <td>5</td>\n",
       "      <td>1.51742</td>\n",
       "      <td>13.27</td>\n",
       "      <td>3.62</td>\n",
       "      <td>1.24</td>\n",
       "      <td>73.08</td>\n",
       "      <td>0.55</td>\n",
       "      <td>8.07</td>\n",
       "      <td>0.0</td>\n",
       "      <td>0.0</td>\n",
       "      <td>1</td>\n",
       "    </tr>\n",
       "  </tbody>\n",
       "</table>\n",
       "</div>"
      ],
      "text/plain": [
       "   ID  Indice_Refraccion     Na    Mg    Al     Si     K    Ca   Ba   Fe  \\\n",
       "0   1            1.52101  13.64  4.49  1.10  71.78  0.06  8.75  0.0  0.0   \n",
       "1   2            1.51761  13.89  3.60  1.36  72.73  0.48  7.83  0.0  0.0   \n",
       "2   3            1.51618  13.53  3.55  1.54  72.99  0.39  7.78  0.0  0.0   \n",
       "3   4            1.51766  13.21  3.69  1.29  72.61  0.57  8.22  0.0  0.0   \n",
       "4   5            1.51742  13.27  3.62  1.24  73.08  0.55  8.07  0.0  0.0   \n",
       "\n",
       "   Tipo_Vidrio  \n",
       "0            1  \n",
       "1            1  \n",
       "2            1  \n",
       "3            1  \n",
       "4            1  "
      ]
     },
     "execution_count": 18,
     "metadata": {},
     "output_type": "execute_result"
    }
   ],
   "source": [
    "data.head()"
   ]
  },
  {
   "cell_type": "code",
   "execution_count": 19,
   "metadata": {},
   "outputs": [
    {
     "data": {
      "text/plain": [
       "(214, 11)"
      ]
     },
     "execution_count": 19,
     "metadata": {},
     "output_type": "execute_result"
    }
   ],
   "source": [
    "data.shape"
   ]
  },
  {
   "cell_type": "code",
   "execution_count": 20,
   "metadata": {},
   "outputs": [
    {
     "data": {
      "text/plain": [
       "Tipo_Vidrio\n",
       "2    76\n",
       "1    70\n",
       "7    29\n",
       "3    17\n",
       "5    13\n",
       "6     9\n",
       "Name: count, dtype: int64"
      ]
     },
     "execution_count": 20,
     "metadata": {},
     "output_type": "execute_result"
    }
   ],
   "source": [
    "#Cuántas clases tengo en mi variable a predecir Y (tipo de vidrio)\n",
    "data.Tipo_Vidrio.value_counts()"
   ]
  },
  {
   "cell_type": "code",
   "execution_count": 21,
   "metadata": {},
   "outputs": [
    {
     "name": "stdout",
     "output_type": "stream",
     "text": [
      "Tamaño de X entrenamiento: (149, 10)\n",
      "Tamaño de X prueba: (65, 10)\n",
      "Tamaño de y entrenamiento: (149,)\n",
      "Tamaño de y prueba: (65,)\n"
     ]
    }
   ],
   "source": [
    "#dividir entre train y test\n",
    "X_train, X_test, y_train, y_test = train_test_split(X, y, test_size=0.3, random_state=46, )\n",
    "\n",
    "print(\"Tamaño de X entrenamiento:\",X_train.shape)\n",
    "print(\"Tamaño de X prueba:\",X_test.shape)\n",
    "print(\"Tamaño de y entrenamiento:\",y_train.shape)\n",
    "print(\"Tamaño de y prueba:\",y_test.shape)"
   ]
  },
  {
   "cell_type": "code",
   "execution_count": 22,
   "metadata": {},
   "outputs": [
    {
     "data": {
      "text/plain": [
       "Tipo_Vidrio\n",
       "1    51\n",
       "2    47\n",
       "7    21\n",
       "3    16\n",
       "5     9\n",
       "6     5\n",
       "Name: count, dtype: int64"
      ]
     },
     "execution_count": 22,
     "metadata": {},
     "output_type": "execute_result"
    }
   ],
   "source": [
    "#Cuántas clases tengo en mi variable a predecir Y de entrenamiento(tipo de vidrio)\n",
    "y_train.value_counts()"
   ]
  },
  {
   "cell_type": "code",
   "execution_count": 23,
   "metadata": {},
   "outputs": [
    {
     "name": "stdout",
     "output_type": "stream",
     "text": [
      "MAE: 0.503\n"
     ]
    }
   ],
   "source": [
    "#Ajustar regresión lineal\n",
    "from sklearn.metrics import mean_absolute_error\n",
    "from sklearn.linear_model import LinearRegression\n",
    "\n",
    "#creamos el objeto de regresión lineal\n",
    "model = LinearRegression()\n",
    "#ajustamos el modelo con datos de entrenamiento\n",
    "model.fit(X_train, y_train)\n",
    "#creamos predicciones\n",
    "pred = model.predict(X_test)\n",
    "\n",
    "#Evaluamos predicciones contra datos reales\n",
    "mae = mean_absolute_error(y_test, pred)\n",
    "print('MAE: %.3f' %mae)"
   ]
  },
  {
   "cell_type": "markdown",
   "metadata": {},
   "source": [
    "#### <font color= blue> Regresión</font>"
   ]
  },
  {
   "cell_type": "code",
   "execution_count": 24,
   "metadata": {},
   "outputs": [
    {
     "data": {
      "text/html": [
       "<div>\n",
       "<style scoped>\n",
       "    .dataframe tbody tr th:only-of-type {\n",
       "        vertical-align: middle;\n",
       "    }\n",
       "\n",
       "    .dataframe tbody tr th {\n",
       "        vertical-align: top;\n",
       "    }\n",
       "\n",
       "    .dataframe thead th {\n",
       "        text-align: right;\n",
       "    }\n",
       "</style>\n",
       "<table border=\"1\" class=\"dataframe\">\n",
       "  <thead>\n",
       "    <tr style=\"text-align: right;\">\n",
       "      <th></th>\n",
       "      <th>MedInc</th>\n",
       "      <th>HouseAge</th>\n",
       "      <th>AveRooms</th>\n",
       "      <th>AveBedrms</th>\n",
       "      <th>Population</th>\n",
       "      <th>AveOccup</th>\n",
       "      <th>Latitude</th>\n",
       "      <th>Longitude</th>\n",
       "      <th>target</th>\n",
       "    </tr>\n",
       "  </thead>\n",
       "  <tbody>\n",
       "    <tr>\n",
       "      <th>0</th>\n",
       "      <td>8.3252</td>\n",
       "      <td>41.0</td>\n",
       "      <td>6.984127</td>\n",
       "      <td>1.023810</td>\n",
       "      <td>322.0</td>\n",
       "      <td>2.555556</td>\n",
       "      <td>37.88</td>\n",
       "      <td>-122.23</td>\n",
       "      <td>4.526</td>\n",
       "    </tr>\n",
       "    <tr>\n",
       "      <th>1</th>\n",
       "      <td>8.3014</td>\n",
       "      <td>21.0</td>\n",
       "      <td>6.238137</td>\n",
       "      <td>0.971880</td>\n",
       "      <td>2401.0</td>\n",
       "      <td>2.109842</td>\n",
       "      <td>37.86</td>\n",
       "      <td>-122.22</td>\n",
       "      <td>3.585</td>\n",
       "    </tr>\n",
       "    <tr>\n",
       "      <th>2</th>\n",
       "      <td>7.2574</td>\n",
       "      <td>52.0</td>\n",
       "      <td>8.288136</td>\n",
       "      <td>1.073446</td>\n",
       "      <td>496.0</td>\n",
       "      <td>2.802260</td>\n",
       "      <td>37.85</td>\n",
       "      <td>-122.24</td>\n",
       "      <td>3.521</td>\n",
       "    </tr>\n",
       "    <tr>\n",
       "      <th>3</th>\n",
       "      <td>5.6431</td>\n",
       "      <td>52.0</td>\n",
       "      <td>5.817352</td>\n",
       "      <td>1.073059</td>\n",
       "      <td>558.0</td>\n",
       "      <td>2.547945</td>\n",
       "      <td>37.85</td>\n",
       "      <td>-122.25</td>\n",
       "      <td>3.413</td>\n",
       "    </tr>\n",
       "    <tr>\n",
       "      <th>4</th>\n",
       "      <td>3.8462</td>\n",
       "      <td>52.0</td>\n",
       "      <td>6.281853</td>\n",
       "      <td>1.081081</td>\n",
       "      <td>565.0</td>\n",
       "      <td>2.181467</td>\n",
       "      <td>37.85</td>\n",
       "      <td>-122.25</td>\n",
       "      <td>3.422</td>\n",
       "    </tr>\n",
       "  </tbody>\n",
       "</table>\n",
       "</div>"
      ],
      "text/plain": [
       "   MedInc  HouseAge  AveRooms  AveBedrms  Population  AveOccup  Latitude  \\\n",
       "0  8.3252      41.0  6.984127   1.023810       322.0  2.555556     37.88   \n",
       "1  8.3014      21.0  6.238137   0.971880      2401.0  2.109842     37.86   \n",
       "2  7.2574      52.0  8.288136   1.073446       496.0  2.802260     37.85   \n",
       "3  5.6431      52.0  5.817352   1.073059       558.0  2.547945     37.85   \n",
       "4  3.8462      52.0  6.281853   1.081081       565.0  2.181467     37.85   \n",
       "\n",
       "   Longitude  target  \n",
       "0    -122.23   4.526  \n",
       "1    -122.22   3.585  \n",
       "2    -122.24   3.521  \n",
       "3    -122.25   3.413  \n",
       "4    -122.25   3.422  "
      ]
     },
     "execution_count": 24,
     "metadata": {},
     "output_type": "execute_result"
    }
   ],
   "source": [
    "from sklearn import datasets\n",
    "housing = datasets.fetch_california_housing()\n",
    "df_housing = pd.DataFrame(housing.data,columns=housing.feature_names)\n",
    "df_housing['target'] = pd.Series(housing.target)\n",
    "df_housing.head()"
   ]
  },
  {
   "cell_type": "code",
   "execution_count": 25,
   "metadata": {},
   "outputs": [],
   "source": [
    "#dividimos las X de las Y\n",
    "X = df_housing.iloc[:, :-1]\n",
    "y = df_housing.iloc[:, -1]"
   ]
  },
  {
   "cell_type": "code",
   "execution_count": 26,
   "metadata": {},
   "outputs": [
    {
     "name": "stdout",
     "output_type": "stream",
     "text": [
      "Tamaño de X entrenamiento: (14448, 8)\n",
      "Tamaño de X prueba: (6192, 8)\n",
      "Tamaño de y entrenamiento: (14448,)\n",
      "Tamaño de y prueba: (6192,)\n"
     ]
    }
   ],
   "source": [
    "#divido datos en prueba y entrenamiento\n",
    "X_train, X_test, y_train, y_test = train_test_split(X, y, test_size=0.30, random_state=1)\n",
    "print(\"Tamaño de X entrenamiento:\",X_train.shape)\n",
    "print(\"Tamaño de X prueba:\",X_test.shape)\n",
    "print(\"Tamaño de y entrenamiento:\",y_train.shape)\n",
    "print(\"Tamaño de y prueba:\",y_test.shape)"
   ]
  },
  {
   "cell_type": "code",
   "execution_count": 27,
   "metadata": {},
   "outputs": [
    {
     "name": "stdout",
     "output_type": "stream",
     "text": [
      "MAE: 0.535\n"
     ]
    }
   ],
   "source": [
    "#Ajustar regresión lineal\n",
    "from sklearn.metrics import mean_absolute_error\n",
    "from sklearn.linear_model import LinearRegression\n",
    "\n",
    "#creamos el objeto de regresión lineal\n",
    "model = LinearRegression()\n",
    "#ajustamos el modelo con datos de entrenamiento\n",
    "model.fit(X_train, y_train)\n",
    "#creamos predicciones\n",
    "pred = model.predict(X_test)\n",
    "\n",
    "#Evaluamos predicciones contra datos reales\n",
    "mae = mean_absolute_error(y_test, pred)\n",
    "print('MAE: %.3f' %mae)"
   ]
  },
  {
   "cell_type": "markdown",
   "metadata": {},
   "source": [
    "**¿Cuál es la desventaja de usar el procedimiento de test/train split para evaluar el modelo?**\n",
    "\n",
    "Proporciona una estimación de alta varianza ya que si cambiamos cuáles observaciones se van para los datos de prueba, puede cambiar significantemente la precisión del modelo. "
   ]
  },
  {
   "cell_type": "code",
   "execution_count": 28,
   "metadata": {},
   "outputs": [],
   "source": [
    "#cargar librerías\n",
    "from sklearn.datasets import load_iris\n",
    "from sklearn.model_selection import train_test_split\n",
    "from sklearn.neighbors import KNeighborsClassifier\n",
    "from sklearn import metrics"
   ]
  },
  {
   "cell_type": "code",
   "execution_count": 29,
   "metadata": {},
   "outputs": [],
   "source": [
    "#cargar datos\n",
    "iris = load_iris()\n",
    "#separar X y Y\n",
    "X=iris.data\n",
    "y=iris.target"
   ]
  },
  {
   "cell_type": "code",
   "execution_count": 30,
   "metadata": {},
   "outputs": [
    {
     "data": {
      "text/plain": [
       "{'data': array([[5.1, 3.5, 1.4, 0.2],\n",
       "        [4.9, 3. , 1.4, 0.2],\n",
       "        [4.7, 3.2, 1.3, 0.2],\n",
       "        [4.6, 3.1, 1.5, 0.2],\n",
       "        [5. , 3.6, 1.4, 0.2],\n",
       "        [5.4, 3.9, 1.7, 0.4],\n",
       "        [4.6, 3.4, 1.4, 0.3],\n",
       "        [5. , 3.4, 1.5, 0.2],\n",
       "        [4.4, 2.9, 1.4, 0.2],\n",
       "        [4.9, 3.1, 1.5, 0.1],\n",
       "        [5.4, 3.7, 1.5, 0.2],\n",
       "        [4.8, 3.4, 1.6, 0.2],\n",
       "        [4.8, 3. , 1.4, 0.1],\n",
       "        [4.3, 3. , 1.1, 0.1],\n",
       "        [5.8, 4. , 1.2, 0.2],\n",
       "        [5.7, 4.4, 1.5, 0.4],\n",
       "        [5.4, 3.9, 1.3, 0.4],\n",
       "        [5.1, 3.5, 1.4, 0.3],\n",
       "        [5.7, 3.8, 1.7, 0.3],\n",
       "        [5.1, 3.8, 1.5, 0.3],\n",
       "        [5.4, 3.4, 1.7, 0.2],\n",
       "        [5.1, 3.7, 1.5, 0.4],\n",
       "        [4.6, 3.6, 1. , 0.2],\n",
       "        [5.1, 3.3, 1.7, 0.5],\n",
       "        [4.8, 3.4, 1.9, 0.2],\n",
       "        [5. , 3. , 1.6, 0.2],\n",
       "        [5. , 3.4, 1.6, 0.4],\n",
       "        [5.2, 3.5, 1.5, 0.2],\n",
       "        [5.2, 3.4, 1.4, 0.2],\n",
       "        [4.7, 3.2, 1.6, 0.2],\n",
       "        [4.8, 3.1, 1.6, 0.2],\n",
       "        [5.4, 3.4, 1.5, 0.4],\n",
       "        [5.2, 4.1, 1.5, 0.1],\n",
       "        [5.5, 4.2, 1.4, 0.2],\n",
       "        [4.9, 3.1, 1.5, 0.2],\n",
       "        [5. , 3.2, 1.2, 0.2],\n",
       "        [5.5, 3.5, 1.3, 0.2],\n",
       "        [4.9, 3.6, 1.4, 0.1],\n",
       "        [4.4, 3. , 1.3, 0.2],\n",
       "        [5.1, 3.4, 1.5, 0.2],\n",
       "        [5. , 3.5, 1.3, 0.3],\n",
       "        [4.5, 2.3, 1.3, 0.3],\n",
       "        [4.4, 3.2, 1.3, 0.2],\n",
       "        [5. , 3.5, 1.6, 0.6],\n",
       "        [5.1, 3.8, 1.9, 0.4],\n",
       "        [4.8, 3. , 1.4, 0.3],\n",
       "        [5.1, 3.8, 1.6, 0.2],\n",
       "        [4.6, 3.2, 1.4, 0.2],\n",
       "        [5.3, 3.7, 1.5, 0.2],\n",
       "        [5. , 3.3, 1.4, 0.2],\n",
       "        [7. , 3.2, 4.7, 1.4],\n",
       "        [6.4, 3.2, 4.5, 1.5],\n",
       "        [6.9, 3.1, 4.9, 1.5],\n",
       "        [5.5, 2.3, 4. , 1.3],\n",
       "        [6.5, 2.8, 4.6, 1.5],\n",
       "        [5.7, 2.8, 4.5, 1.3],\n",
       "        [6.3, 3.3, 4.7, 1.6],\n",
       "        [4.9, 2.4, 3.3, 1. ],\n",
       "        [6.6, 2.9, 4.6, 1.3],\n",
       "        [5.2, 2.7, 3.9, 1.4],\n",
       "        [5. , 2. , 3.5, 1. ],\n",
       "        [5.9, 3. , 4.2, 1.5],\n",
       "        [6. , 2.2, 4. , 1. ],\n",
       "        [6.1, 2.9, 4.7, 1.4],\n",
       "        [5.6, 2.9, 3.6, 1.3],\n",
       "        [6.7, 3.1, 4.4, 1.4],\n",
       "        [5.6, 3. , 4.5, 1.5],\n",
       "        [5.8, 2.7, 4.1, 1. ],\n",
       "        [6.2, 2.2, 4.5, 1.5],\n",
       "        [5.6, 2.5, 3.9, 1.1],\n",
       "        [5.9, 3.2, 4.8, 1.8],\n",
       "        [6.1, 2.8, 4. , 1.3],\n",
       "        [6.3, 2.5, 4.9, 1.5],\n",
       "        [6.1, 2.8, 4.7, 1.2],\n",
       "        [6.4, 2.9, 4.3, 1.3],\n",
       "        [6.6, 3. , 4.4, 1.4],\n",
       "        [6.8, 2.8, 4.8, 1.4],\n",
       "        [6.7, 3. , 5. , 1.7],\n",
       "        [6. , 2.9, 4.5, 1.5],\n",
       "        [5.7, 2.6, 3.5, 1. ],\n",
       "        [5.5, 2.4, 3.8, 1.1],\n",
       "        [5.5, 2.4, 3.7, 1. ],\n",
       "        [5.8, 2.7, 3.9, 1.2],\n",
       "        [6. , 2.7, 5.1, 1.6],\n",
       "        [5.4, 3. , 4.5, 1.5],\n",
       "        [6. , 3.4, 4.5, 1.6],\n",
       "        [6.7, 3.1, 4.7, 1.5],\n",
       "        [6.3, 2.3, 4.4, 1.3],\n",
       "        [5.6, 3. , 4.1, 1.3],\n",
       "        [5.5, 2.5, 4. , 1.3],\n",
       "        [5.5, 2.6, 4.4, 1.2],\n",
       "        [6.1, 3. , 4.6, 1.4],\n",
       "        [5.8, 2.6, 4. , 1.2],\n",
       "        [5. , 2.3, 3.3, 1. ],\n",
       "        [5.6, 2.7, 4.2, 1.3],\n",
       "        [5.7, 3. , 4.2, 1.2],\n",
       "        [5.7, 2.9, 4.2, 1.3],\n",
       "        [6.2, 2.9, 4.3, 1.3],\n",
       "        [5.1, 2.5, 3. , 1.1],\n",
       "        [5.7, 2.8, 4.1, 1.3],\n",
       "        [6.3, 3.3, 6. , 2.5],\n",
       "        [5.8, 2.7, 5.1, 1.9],\n",
       "        [7.1, 3. , 5.9, 2.1],\n",
       "        [6.3, 2.9, 5.6, 1.8],\n",
       "        [6.5, 3. , 5.8, 2.2],\n",
       "        [7.6, 3. , 6.6, 2.1],\n",
       "        [4.9, 2.5, 4.5, 1.7],\n",
       "        [7.3, 2.9, 6.3, 1.8],\n",
       "        [6.7, 2.5, 5.8, 1.8],\n",
       "        [7.2, 3.6, 6.1, 2.5],\n",
       "        [6.5, 3.2, 5.1, 2. ],\n",
       "        [6.4, 2.7, 5.3, 1.9],\n",
       "        [6.8, 3. , 5.5, 2.1],\n",
       "        [5.7, 2.5, 5. , 2. ],\n",
       "        [5.8, 2.8, 5.1, 2.4],\n",
       "        [6.4, 3.2, 5.3, 2.3],\n",
       "        [6.5, 3. , 5.5, 1.8],\n",
       "        [7.7, 3.8, 6.7, 2.2],\n",
       "        [7.7, 2.6, 6.9, 2.3],\n",
       "        [6. , 2.2, 5. , 1.5],\n",
       "        [6.9, 3.2, 5.7, 2.3],\n",
       "        [5.6, 2.8, 4.9, 2. ],\n",
       "        [7.7, 2.8, 6.7, 2. ],\n",
       "        [6.3, 2.7, 4.9, 1.8],\n",
       "        [6.7, 3.3, 5.7, 2.1],\n",
       "        [7.2, 3.2, 6. , 1.8],\n",
       "        [6.2, 2.8, 4.8, 1.8],\n",
       "        [6.1, 3. , 4.9, 1.8],\n",
       "        [6.4, 2.8, 5.6, 2.1],\n",
       "        [7.2, 3. , 5.8, 1.6],\n",
       "        [7.4, 2.8, 6.1, 1.9],\n",
       "        [7.9, 3.8, 6.4, 2. ],\n",
       "        [6.4, 2.8, 5.6, 2.2],\n",
       "        [6.3, 2.8, 5.1, 1.5],\n",
       "        [6.1, 2.6, 5.6, 1.4],\n",
       "        [7.7, 3. , 6.1, 2.3],\n",
       "        [6.3, 3.4, 5.6, 2.4],\n",
       "        [6.4, 3.1, 5.5, 1.8],\n",
       "        [6. , 3. , 4.8, 1.8],\n",
       "        [6.9, 3.1, 5.4, 2.1],\n",
       "        [6.7, 3.1, 5.6, 2.4],\n",
       "        [6.9, 3.1, 5.1, 2.3],\n",
       "        [5.8, 2.7, 5.1, 1.9],\n",
       "        [6.8, 3.2, 5.9, 2.3],\n",
       "        [6.7, 3.3, 5.7, 2.5],\n",
       "        [6.7, 3. , 5.2, 2.3],\n",
       "        [6.3, 2.5, 5. , 1.9],\n",
       "        [6.5, 3. , 5.2, 2. ],\n",
       "        [6.2, 3.4, 5.4, 2.3],\n",
       "        [5.9, 3. , 5.1, 1.8]]),\n",
       " 'target': array([0, 0, 0, 0, 0, 0, 0, 0, 0, 0, 0, 0, 0, 0, 0, 0, 0, 0, 0, 0, 0, 0,\n",
       "        0, 0, 0, 0, 0, 0, 0, 0, 0, 0, 0, 0, 0, 0, 0, 0, 0, 0, 0, 0, 0, 0,\n",
       "        0, 0, 0, 0, 0, 0, 1, 1, 1, 1, 1, 1, 1, 1, 1, 1, 1, 1, 1, 1, 1, 1,\n",
       "        1, 1, 1, 1, 1, 1, 1, 1, 1, 1, 1, 1, 1, 1, 1, 1, 1, 1, 1, 1, 1, 1,\n",
       "        1, 1, 1, 1, 1, 1, 1, 1, 1, 1, 1, 1, 2, 2, 2, 2, 2, 2, 2, 2, 2, 2,\n",
       "        2, 2, 2, 2, 2, 2, 2, 2, 2, 2, 2, 2, 2, 2, 2, 2, 2, 2, 2, 2, 2, 2,\n",
       "        2, 2, 2, 2, 2, 2, 2, 2, 2, 2, 2, 2, 2, 2, 2, 2, 2, 2]),\n",
       " 'frame': None,\n",
       " 'target_names': array(['setosa', 'versicolor', 'virginica'], dtype='<U10'),\n",
       " 'DESCR': '.. _iris_dataset:\\n\\nIris plants dataset\\n--------------------\\n\\n**Data Set Characteristics:**\\n\\n:Number of Instances: 150 (50 in each of three classes)\\n:Number of Attributes: 4 numeric, predictive attributes and the class\\n:Attribute Information:\\n    - sepal length in cm\\n    - sepal width in cm\\n    - petal length in cm\\n    - petal width in cm\\n    - class:\\n            - Iris-Setosa\\n            - Iris-Versicolour\\n            - Iris-Virginica\\n\\n:Summary Statistics:\\n\\n============== ==== ==== ======= ===== ====================\\n                Min  Max   Mean    SD   Class Correlation\\n============== ==== ==== ======= ===== ====================\\nsepal length:   4.3  7.9   5.84   0.83    0.7826\\nsepal width:    2.0  4.4   3.05   0.43   -0.4194\\npetal length:   1.0  6.9   3.76   1.76    0.9490  (high!)\\npetal width:    0.1  2.5   1.20   0.76    0.9565  (high!)\\n============== ==== ==== ======= ===== ====================\\n\\n:Missing Attribute Values: None\\n:Class Distribution: 33.3% for each of 3 classes.\\n:Creator: R.A. Fisher\\n:Donor: Michael Marshall (MARSHALL%PLU@io.arc.nasa.gov)\\n:Date: July, 1988\\n\\nThe famous Iris database, first used by Sir R.A. Fisher. The dataset is taken\\nfrom Fisher\\'s paper. Note that it\\'s the same as in R, but not as in the UCI\\nMachine Learning Repository, which has two wrong data points.\\n\\nThis is perhaps the best known database to be found in the\\npattern recognition literature.  Fisher\\'s paper is a classic in the field and\\nis referenced frequently to this day.  (See Duda & Hart, for example.)  The\\ndata set contains 3 classes of 50 instances each, where each class refers to a\\ntype of iris plant.  One class is linearly separable from the other 2; the\\nlatter are NOT linearly separable from each other.\\n\\n.. dropdown:: References\\n\\n  - Fisher, R.A. \"The use of multiple measurements in taxonomic problems\"\\n    Annual Eugenics, 7, Part II, 179-188 (1936); also in \"Contributions to\\n    Mathematical Statistics\" (John Wiley, NY, 1950).\\n  - Duda, R.O., & Hart, P.E. (1973) Pattern Classification and Scene Analysis.\\n    (Q327.D83) John Wiley & Sons.  ISBN 0-471-22361-1.  See page 218.\\n  - Dasarathy, B.V. (1980) \"Nosing Around the Neighborhood: A New System\\n    Structure and Classification Rule for Recognition in Partially Exposed\\n    Environments\".  IEEE Transactions on Pattern Analysis and Machine\\n    Intelligence, Vol. PAMI-2, No. 1, 67-71.\\n  - Gates, G.W. (1972) \"The Reduced Nearest Neighbor Rule\".  IEEE Transactions\\n    on Information Theory, May 1972, 431-433.\\n  - See also: 1988 MLC Proceedings, 54-64.  Cheeseman et al\"s AUTOCLASS II\\n    conceptual clustering system finds 3 classes in the data.\\n  - Many, many more ...\\n',\n",
       " 'feature_names': ['sepal length (cm)',\n",
       "  'sepal width (cm)',\n",
       "  'petal length (cm)',\n",
       "  'petal width (cm)'],\n",
       " 'filename': 'iris.csv',\n",
       " 'data_module': 'sklearn.datasets.data'}"
      ]
     },
     "execution_count": 30,
     "metadata": {},
     "output_type": "execute_result"
    }
   ],
   "source": [
    "iris"
   ]
  },
  {
   "cell_type": "code",
   "execution_count": 31,
   "metadata": {},
   "outputs": [
    {
     "name": "stdout",
     "output_type": "stream",
     "text": [
      "Accuracy: 0.895\n"
     ]
    }
   ],
   "source": [
    "#Hacer el train/test split con diferentes valores aleatorios\n",
    "X_train, X_test, y_train, y_test = train_test_split(X, y, random_state=7) #2 #7\n",
    "\n",
    "#Revisar el accuracy (precisión) de clasificación del KNN\n",
    "model = KNeighborsClassifier(n_neighbors=5)\n",
    "model.fit(X_train, y_train)\n",
    "y_pred = model.predict(X_test)\n",
    "acc = metrics.accuracy_score(y_test, y_pred)\n",
    "print('Accuracy: %.3f' % acc)"
   ]
  },
  {
   "cell_type": "markdown",
   "metadata": {},
   "source": [
    "**Pregunta:** Qué pasaría si dividiéramos los datos muchas veces de distintas maneras, calculando la presición para cada partición y finalmente promediando los resultados?\n",
    "\n",
    "**Respuesta:** usamos cross validation!\n",
    "\n",
    "**Otra Pregunta:** ¿cuándo hacemos la selección de variables? antes o después de dividir los datos?\n",
    "\n",
    "Demostrémoslo"
   ]
  },
  {
   "cell_type": "code",
   "execution_count": 32,
   "metadata": {},
   "outputs": [],
   "source": [
    "#Selección de variables antes de dividir los datos -> cómo NO SE HACE\n",
    "\n",
    "import numpy as np\n",
    "from sklearn.feature_selection import SelectKBest\n",
    "from sklearn.model_selection import train_test_split\n",
    "from sklearn.linear_model import LogisticRegression\n",
    "from sklearn.metrics import accuracy_score\n",
    "\n",
    "# datos aleatorios:\n",
    "np.random.seed(1) #semilla para que todos tengamos el mismo resultado\n",
    "X = np.random.randn(500, 10000) #500 filas con 10000 variables\n",
    "y = np.random.choice(2, size=500)\n"
   ]
  },
  {
   "cell_type": "code",
   "execution_count": 33,
   "metadata": {},
   "outputs": [
    {
     "data": {
      "text/plain": [
       "0.76"
      ]
     },
     "execution_count": 33,
     "metadata": {},
     "output_type": "execute_result"
    }
   ],
   "source": [
    "#seleccionar las mejores 25 variables\n",
    "selector = SelectKBest(k=25) #basándose en la prueba de ANOVA\n",
    "# primero seleccionar variables\n",
    "X_selected = selector.fit_transform(X,y)\n",
    "# después dividir\n",
    "X_selected_train, X_selected_test, y_train, y_test = train_test_split(X_selected, y, test_size=0.25, random_state=42)\n",
    "\n",
    "# ajustar regresión logística\n",
    "lr = LogisticRegression()\n",
    "lr.fit(X_selected_train,y_train)\n",
    "\n",
    "# predecir en los datos de prueba y obtener la precisión de prueba:\n",
    "y_pred = lr.predict(X_selected_test)\n",
    "accuracy_score(y_test, y_pred)"
   ]
  },
  {
   "cell_type": "markdown",
   "metadata": {},
   "source": [
    "Obtenemos una precisión de prueba del 76%! en un problema binario, donde de acuerdo con las reglas básicas de la estadística, deberíamos tener algo cerca del 50%!\n",
    "\n",
    "La verdad detrás... es que obtvimos esa pecisión de prueba porque hicimos un error básico: erróneamente pensamos que los datos de prueba no fueron vistos, pero de hecho los datos de prueba ya fueron vitos por el modelo al crear el proceso durante la selección de variables, en particular aquí:\n",
    "\n",
    "**X_selected = selector.fit_transform(X,y)**\n",
    "\n",
    "¿Qué tan mal podemos estar en realidad? supongamos que, después de haber terminado con nuestro modelo y haberlo implementado (esperando algo similar al 76% de precisión en la práctica con nuevos datos no vistos), obtenemos algunos datos realmente nuevos:"
   ]
  },
  {
   "cell_type": "code",
   "execution_count": 34,
   "metadata": {},
   "outputs": [
    {
     "data": {
      "text/plain": [
       "0.506"
      ]
     },
     "execution_count": 34,
     "metadata": {},
     "output_type": "execute_result"
    }
   ],
   "source": [
    "#¿cómo funcionaría nuestro modelo con datos nuevos?\n",
    "\n",
    "#creamos datos nuevos para probar en nuestro modelo\n",
    "X_new = np.random.randn(500, 10000)\n",
    "y_new = np.random.choice(2, size=500)\n",
    "\n",
    "\n",
    "#seleccionar las mismas variables en los nuevos datos\n",
    "X_new_selected = selector.transform(X_new)\n",
    "\n",
    "#predecir y obtener la precisón\n",
    "y_new_pred = lr.predict(X_new_selected)\n",
    "accuracy_score(y_new, y_new_pred)"
   ]
  },
  {
   "cell_type": "markdown",
   "metadata": {},
   "source": [
    "¿No que 76%?\n",
    "\n",
    "Entonces como SÍ se hace? -> primero divido en train/test y luego selecciono mis variables"
   ]
  },
  {
   "cell_type": "code",
   "execution_count": 35,
   "metadata": {},
   "outputs": [
    {
     "data": {
      "text/plain": [
       "0.496"
      ]
     },
     "execution_count": 35,
     "metadata": {},
     "output_type": "execute_result"
    }
   ],
   "source": [
    "#Forma correcta de elegir variables (dividir primero y elegir variables basadas en los datos de entrenamiento)\n",
    "\n",
    "# dividir primero\n",
    "X_train, X_test, y_train, y_test = train_test_split(X, y, test_size=0.25, random_state=42)\n",
    "\n",
    "# luego seleccione variables usando solo el conjunto de entrenamiento\n",
    "selector = SelectKBest(k=25)\n",
    "X_train_selected = selector.fit_transform(X_train,y_train)\n",
    "\n",
    "# ajustar de nuevo una regresión logística simple\n",
    "lr.fit(X_train_selected,y_train)\n",
    "# seleccione las mismas variables en el conjunto de prueba, prediga y obtenga la precisión de la prueba:\n",
    "X_test_selected = selector.transform(X_test)\n",
    "y_pred = lr.predict(X_test_selected)\n",
    "accuracy_score(y_test, y_pred)\n"
   ]
  },
  {
   "cell_type": "code",
   "execution_count": 36,
   "metadata": {},
   "outputs": [
    {
     "data": {
      "text/plain": [
       "0.526"
      ]
     },
     "execution_count": 36,
     "metadata": {},
     "output_type": "execute_result"
    }
   ],
   "source": [
    "#¿cómo funcionaría nuestro modelo con datos nuevos?\n",
    "#seleccionar las mismas variables en los nuevos datos\n",
    "X_new_selected = selector.transform(X_new)\n",
    "#predecir y obtener la precisón\n",
    "y_new_pred = lr.predict(X_new_selected)\n",
    "accuracy_score(y_new, y_new_pred)"
   ]
  },
  {
   "cell_type": "markdown",
   "metadata": {},
   "source": [
    "### <font color= #2E9AFE> K-Fold Cross Validation</font>\n",
    "\n",
    "#### Pasos\n",
    "\n",
    "1. Dividir los datos en \"K\" partes iguales (Folds)\n",
    "2. Usamos 1 parte como los datos de prueba y la unión de las partes restantes como datos de entrenamiento\n",
    "3. Calcular la precisión de prueba (Testing accuracy)\n",
    "4. Repetimos pasos 2 y 3 \"K\" veces, usando diferentes partes como conjunto de prueba en cada vez. \n",
    "5. Usar la presición de prueba promedio como estimación de la precisión fuera de la muetra. "
   ]
  },
  {
   "cell_type": "code",
   "execution_count": 37,
   "metadata": {},
   "outputs": [
    {
     "data": {
      "text/plain": [
       "(500, 10000)"
      ]
     },
     "execution_count": 37,
     "metadata": {},
     "output_type": "execute_result"
    }
   ],
   "source": [
    "X.shape"
   ]
  },
  {
   "cell_type": "code",
   "execution_count": 38,
   "metadata": {},
   "outputs": [
    {
     "name": "stdout",
     "output_type": "stream",
     "text": [
      "TRAIN: [100 101 102 103 104 105 106 107 108 109 110 111 112 113 114 115 116 117\n",
      " 118 119 120 121 122 123 124 125 126 127 128 129 130 131 132 133 134 135\n",
      " 136 137 138 139 140 141 142 143 144 145 146 147 148 149 150 151 152 153\n",
      " 154 155 156 157 158 159 160 161 162 163 164 165 166 167 168 169 170 171\n",
      " 172 173 174 175 176 177 178 179 180 181 182 183 184 185 186 187 188 189\n",
      " 190 191 192 193 194 195 196 197 198 199 200 201 202 203 204 205 206 207\n",
      " 208 209 210 211 212 213 214 215 216 217 218 219 220 221 222 223 224 225\n",
      " 226 227 228 229 230 231 232 233 234 235 236 237 238 239 240 241 242 243\n",
      " 244 245 246 247 248 249 250 251 252 253 254 255 256 257 258 259 260 261\n",
      " 262 263 264 265 266 267 268 269 270 271 272 273 274 275 276 277 278 279\n",
      " 280 281 282 283 284 285 286 287 288 289 290 291 292 293 294 295 296 297\n",
      " 298 299 300 301 302 303 304 305 306 307 308 309 310 311 312 313 314 315\n",
      " 316 317 318 319 320 321 322 323 324 325 326 327 328 329 330 331 332 333\n",
      " 334 335 336 337 338 339 340 341 342 343 344 345 346 347 348 349 350 351\n",
      " 352 353 354 355 356 357 358 359 360 361 362 363 364 365 366 367 368 369\n",
      " 370 371 372 373 374 375 376 377 378 379 380 381 382 383 384 385 386 387\n",
      " 388 389 390 391 392 393 394 395 396 397 398 399 400 401 402 403 404 405\n",
      " 406 407 408 409 410 411 412 413 414 415 416 417 418 419 420 421 422 423\n",
      " 424 425 426 427 428 429 430 431 432 433 434 435 436 437 438 439 440 441\n",
      " 442 443 444 445 446 447 448 449 450 451 452 453 454 455 456 457 458 459\n",
      " 460 461 462 463 464 465 466 467 468 469 470 471 472 473 474 475 476 477\n",
      " 478 479 480 481 482 483 484 485 486 487 488 489 490 491 492 493 494 495\n",
      " 496 497 498 499] TEST: [ 0  1  2  3  4  5  6  7  8  9 10 11 12 13 14 15 16 17 18 19 20 21 22 23\n",
      " 24 25 26 27 28 29 30 31 32 33 34 35 36 37 38 39 40 41 42 43 44 45 46 47\n",
      " 48 49 50 51 52 53 54 55 56 57 58 59 60 61 62 63 64 65 66 67 68 69 70 71\n",
      " 72 73 74 75 76 77 78 79 80 81 82 83 84 85 86 87 88 89 90 91 92 93 94 95\n",
      " 96 97 98 99]\n",
      "TRAIN: [  0   1   2   3   4   5   6   7   8   9  10  11  12  13  14  15  16  17\n",
      "  18  19  20  21  22  23  24  25  26  27  28  29  30  31  32  33  34  35\n",
      "  36  37  38  39  40  41  42  43  44  45  46  47  48  49  50  51  52  53\n",
      "  54  55  56  57  58  59  60  61  62  63  64  65  66  67  68  69  70  71\n",
      "  72  73  74  75  76  77  78  79  80  81  82  83  84  85  86  87  88  89\n",
      "  90  91  92  93  94  95  96  97  98  99 200 201 202 203 204 205 206 207\n",
      " 208 209 210 211 212 213 214 215 216 217 218 219 220 221 222 223 224 225\n",
      " 226 227 228 229 230 231 232 233 234 235 236 237 238 239 240 241 242 243\n",
      " 244 245 246 247 248 249 250 251 252 253 254 255 256 257 258 259 260 261\n",
      " 262 263 264 265 266 267 268 269 270 271 272 273 274 275 276 277 278 279\n",
      " 280 281 282 283 284 285 286 287 288 289 290 291 292 293 294 295 296 297\n",
      " 298 299 300 301 302 303 304 305 306 307 308 309 310 311 312 313 314 315\n",
      " 316 317 318 319 320 321 322 323 324 325 326 327 328 329 330 331 332 333\n",
      " 334 335 336 337 338 339 340 341 342 343 344 345 346 347 348 349 350 351\n",
      " 352 353 354 355 356 357 358 359 360 361 362 363 364 365 366 367 368 369\n",
      " 370 371 372 373 374 375 376 377 378 379 380 381 382 383 384 385 386 387\n",
      " 388 389 390 391 392 393 394 395 396 397 398 399 400 401 402 403 404 405\n",
      " 406 407 408 409 410 411 412 413 414 415 416 417 418 419 420 421 422 423\n",
      " 424 425 426 427 428 429 430 431 432 433 434 435 436 437 438 439 440 441\n",
      " 442 443 444 445 446 447 448 449 450 451 452 453 454 455 456 457 458 459\n",
      " 460 461 462 463 464 465 466 467 468 469 470 471 472 473 474 475 476 477\n",
      " 478 479 480 481 482 483 484 485 486 487 488 489 490 491 492 493 494 495\n",
      " 496 497 498 499] TEST: [100 101 102 103 104 105 106 107 108 109 110 111 112 113 114 115 116 117\n",
      " 118 119 120 121 122 123 124 125 126 127 128 129 130 131 132 133 134 135\n",
      " 136 137 138 139 140 141 142 143 144 145 146 147 148 149 150 151 152 153\n",
      " 154 155 156 157 158 159 160 161 162 163 164 165 166 167 168 169 170 171\n",
      " 172 173 174 175 176 177 178 179 180 181 182 183 184 185 186 187 188 189\n",
      " 190 191 192 193 194 195 196 197 198 199]\n",
      "TRAIN: [  0   1   2   3   4   5   6   7   8   9  10  11  12  13  14  15  16  17\n",
      "  18  19  20  21  22  23  24  25  26  27  28  29  30  31  32  33  34  35\n",
      "  36  37  38  39  40  41  42  43  44  45  46  47  48  49  50  51  52  53\n",
      "  54  55  56  57  58  59  60  61  62  63  64  65  66  67  68  69  70  71\n",
      "  72  73  74  75  76  77  78  79  80  81  82  83  84  85  86  87  88  89\n",
      "  90  91  92  93  94  95  96  97  98  99 100 101 102 103 104 105 106 107\n",
      " 108 109 110 111 112 113 114 115 116 117 118 119 120 121 122 123 124 125\n",
      " 126 127 128 129 130 131 132 133 134 135 136 137 138 139 140 141 142 143\n",
      " 144 145 146 147 148 149 150 151 152 153 154 155 156 157 158 159 160 161\n",
      " 162 163 164 165 166 167 168 169 170 171 172 173 174 175 176 177 178 179\n",
      " 180 181 182 183 184 185 186 187 188 189 190 191 192 193 194 195 196 197\n",
      " 198 199 300 301 302 303 304 305 306 307 308 309 310 311 312 313 314 315\n",
      " 316 317 318 319 320 321 322 323 324 325 326 327 328 329 330 331 332 333\n",
      " 334 335 336 337 338 339 340 341 342 343 344 345 346 347 348 349 350 351\n",
      " 352 353 354 355 356 357 358 359 360 361 362 363 364 365 366 367 368 369\n",
      " 370 371 372 373 374 375 376 377 378 379 380 381 382 383 384 385 386 387\n",
      " 388 389 390 391 392 393 394 395 396 397 398 399 400 401 402 403 404 405\n",
      " 406 407 408 409 410 411 412 413 414 415 416 417 418 419 420 421 422 423\n",
      " 424 425 426 427 428 429 430 431 432 433 434 435 436 437 438 439 440 441\n",
      " 442 443 444 445 446 447 448 449 450 451 452 453 454 455 456 457 458 459\n",
      " 460 461 462 463 464 465 466 467 468 469 470 471 472 473 474 475 476 477\n",
      " 478 479 480 481 482 483 484 485 486 487 488 489 490 491 492 493 494 495\n",
      " 496 497 498 499] TEST: [200 201 202 203 204 205 206 207 208 209 210 211 212 213 214 215 216 217\n",
      " 218 219 220 221 222 223 224 225 226 227 228 229 230 231 232 233 234 235\n",
      " 236 237 238 239 240 241 242 243 244 245 246 247 248 249 250 251 252 253\n",
      " 254 255 256 257 258 259 260 261 262 263 264 265 266 267 268 269 270 271\n",
      " 272 273 274 275 276 277 278 279 280 281 282 283 284 285 286 287 288 289\n",
      " 290 291 292 293 294 295 296 297 298 299]\n",
      "TRAIN: [  0   1   2   3   4   5   6   7   8   9  10  11  12  13  14  15  16  17\n",
      "  18  19  20  21  22  23  24  25  26  27  28  29  30  31  32  33  34  35\n",
      "  36  37  38  39  40  41  42  43  44  45  46  47  48  49  50  51  52  53\n",
      "  54  55  56  57  58  59  60  61  62  63  64  65  66  67  68  69  70  71\n",
      "  72  73  74  75  76  77  78  79  80  81  82  83  84  85  86  87  88  89\n",
      "  90  91  92  93  94  95  96  97  98  99 100 101 102 103 104 105 106 107\n",
      " 108 109 110 111 112 113 114 115 116 117 118 119 120 121 122 123 124 125\n",
      " 126 127 128 129 130 131 132 133 134 135 136 137 138 139 140 141 142 143\n",
      " 144 145 146 147 148 149 150 151 152 153 154 155 156 157 158 159 160 161\n",
      " 162 163 164 165 166 167 168 169 170 171 172 173 174 175 176 177 178 179\n",
      " 180 181 182 183 184 185 186 187 188 189 190 191 192 193 194 195 196 197\n",
      " 198 199 200 201 202 203 204 205 206 207 208 209 210 211 212 213 214 215\n",
      " 216 217 218 219 220 221 222 223 224 225 226 227 228 229 230 231 232 233\n",
      " 234 235 236 237 238 239 240 241 242 243 244 245 246 247 248 249 250 251\n",
      " 252 253 254 255 256 257 258 259 260 261 262 263 264 265 266 267 268 269\n",
      " 270 271 272 273 274 275 276 277 278 279 280 281 282 283 284 285 286 287\n",
      " 288 289 290 291 292 293 294 295 296 297 298 299 400 401 402 403 404 405\n",
      " 406 407 408 409 410 411 412 413 414 415 416 417 418 419 420 421 422 423\n",
      " 424 425 426 427 428 429 430 431 432 433 434 435 436 437 438 439 440 441\n",
      " 442 443 444 445 446 447 448 449 450 451 452 453 454 455 456 457 458 459\n",
      " 460 461 462 463 464 465 466 467 468 469 470 471 472 473 474 475 476 477\n",
      " 478 479 480 481 482 483 484 485 486 487 488 489 490 491 492 493 494 495\n",
      " 496 497 498 499] TEST: [300 301 302 303 304 305 306 307 308 309 310 311 312 313 314 315 316 317\n",
      " 318 319 320 321 322 323 324 325 326 327 328 329 330 331 332 333 334 335\n",
      " 336 337 338 339 340 341 342 343 344 345 346 347 348 349 350 351 352 353\n",
      " 354 355 356 357 358 359 360 361 362 363 364 365 366 367 368 369 370 371\n",
      " 372 373 374 375 376 377 378 379 380 381 382 383 384 385 386 387 388 389\n",
      " 390 391 392 393 394 395 396 397 398 399]\n",
      "TRAIN: [  0   1   2   3   4   5   6   7   8   9  10  11  12  13  14  15  16  17\n",
      "  18  19  20  21  22  23  24  25  26  27  28  29  30  31  32  33  34  35\n",
      "  36  37  38  39  40  41  42  43  44  45  46  47  48  49  50  51  52  53\n",
      "  54  55  56  57  58  59  60  61  62  63  64  65  66  67  68  69  70  71\n",
      "  72  73  74  75  76  77  78  79  80  81  82  83  84  85  86  87  88  89\n",
      "  90  91  92  93  94  95  96  97  98  99 100 101 102 103 104 105 106 107\n",
      " 108 109 110 111 112 113 114 115 116 117 118 119 120 121 122 123 124 125\n",
      " 126 127 128 129 130 131 132 133 134 135 136 137 138 139 140 141 142 143\n",
      " 144 145 146 147 148 149 150 151 152 153 154 155 156 157 158 159 160 161\n",
      " 162 163 164 165 166 167 168 169 170 171 172 173 174 175 176 177 178 179\n",
      " 180 181 182 183 184 185 186 187 188 189 190 191 192 193 194 195 196 197\n",
      " 198 199 200 201 202 203 204 205 206 207 208 209 210 211 212 213 214 215\n",
      " 216 217 218 219 220 221 222 223 224 225 226 227 228 229 230 231 232 233\n",
      " 234 235 236 237 238 239 240 241 242 243 244 245 246 247 248 249 250 251\n",
      " 252 253 254 255 256 257 258 259 260 261 262 263 264 265 266 267 268 269\n",
      " 270 271 272 273 274 275 276 277 278 279 280 281 282 283 284 285 286 287\n",
      " 288 289 290 291 292 293 294 295 296 297 298 299 300 301 302 303 304 305\n",
      " 306 307 308 309 310 311 312 313 314 315 316 317 318 319 320 321 322 323\n",
      " 324 325 326 327 328 329 330 331 332 333 334 335 336 337 338 339 340 341\n",
      " 342 343 344 345 346 347 348 349 350 351 352 353 354 355 356 357 358 359\n",
      " 360 361 362 363 364 365 366 367 368 369 370 371 372 373 374 375 376 377\n",
      " 378 379 380 381 382 383 384 385 386 387 388 389 390 391 392 393 394 395\n",
      " 396 397 398 399] TEST: [400 401 402 403 404 405 406 407 408 409 410 411 412 413 414 415 416 417\n",
      " 418 419 420 421 422 423 424 425 426 427 428 429 430 431 432 433 434 435\n",
      " 436 437 438 439 440 441 442 443 444 445 446 447 448 449 450 451 452 453\n",
      " 454 455 456 457 458 459 460 461 462 463 464 465 466 467 468 469 470 471\n",
      " 472 473 474 475 476 477 478 479 480 481 482 483 484 485 486 487 488 489\n",
      " 490 491 492 493 494 495 496 497 498 499]\n"
     ]
    }
   ],
   "source": [
    "#simulación de dividir datos con 25 observaciones en 5 partes\n",
    "from sklearn.model_selection import KFold\n",
    "kf = KFold(n_splits=5)\n",
    "for train_index, test_index in kf.split(X):\n",
    "     print(\"TRAIN:\", train_index, \"TEST:\", test_index)\n",
    "     X_train, X_test = X[train_index], X[test_index]\n",
    "     y_train, y_test = y[train_index], y[test_index]\n"
   ]
  },
  {
   "cell_type": "markdown",
   "metadata": {},
   "source": [
    "\n",
    "- 5-fold-cross validation, corre por 5 iteraciones\n",
    "- Para cada iteración, cada observación está o en el set de entrenamiento o en el de prueba, pero NO EN AMBOS\n",
    "- Cada observación está en el set de prueba exactamente una vez"
   ]
  },
  {
   "cell_type": "markdown",
   "metadata": {},
   "source": [
    "**Comparando train/test split vs. Cross-Validation**\n",
    "\n",
    "Ventajas de cross validation:\n",
    "- Estimación más precisa de la precisión fuera de la muestra\n",
    "- Uso más eficiente de los datos (nos aseguramos que cada observación sea usada tanto en el entrenamiento como en la prueba)\n",
    "\n",
    "Ventajas del train/test split:\n",
    "- Corre \"K\" veces más rápido que el K-Fold Cross-Validation\n",
    "- Es más fácil de examinar los resultados detallados del proceso\n",
    "\n",
    "**Recomendaciones**\n",
    "\n",
    "- \"K\" puede ser cualquier número, pero K=10 es recomendado\n",
    "- Para problemas de clasificación se recomienda usar el muestreo estratificado\n",
    "\n"
   ]
  },
  {
   "cell_type": "markdown",
   "metadata": {},
   "source": [
    "### Ejemplo: selección de modelo\n",
    "\n",
    "Comparar el mejor modelo Regresión logística vs Bosque aleatorio"
   ]
  },
  {
   "cell_type": "code",
   "execution_count": 39,
   "metadata": {},
   "outputs": [],
   "source": [
    "# Datos de cáncer --> problema de clasificación\n",
    "from sklearn.datasets import load_breast_cancer\n",
    "data = load_breast_cancer()\n",
    "X = pd.DataFrame(data.data, columns=data.feature_names)\n",
    "y = pd.Series(data.target)"
   ]
  },
  {
   "cell_type": "code",
   "execution_count": 40,
   "metadata": {},
   "outputs": [],
   "source": [
    "#Definir los modelos\n",
    "from sklearn.linear_model import LogisticRegression\n",
    "from sklearn.ensemble import RandomForestClassifier\n",
    "modelos = {\n",
    "    'Regresion Logistica': LogisticRegression(max_iter=10000),\n",
    "    'Random Forest': RandomForestClassifier()\n",
    "}"
   ]
  },
  {
   "cell_type": "code",
   "execution_count": 41,
   "metadata": {},
   "outputs": [],
   "source": [
    "#Definimos el K-fold cross validation (5 folds)\n",
    "kf = KFold(n_splits=5, shuffle=True, random_state=42)"
   ]
  },
  {
   "cell_type": "code",
   "execution_count": 42,
   "metadata": {},
   "outputs": [
    {
     "name": "stdout",
     "output_type": "stream",
     "text": [
      "Regresion Logistica: Accuracy = 0.9507\n",
      "Random Forest: Accuracy = 0.9613\n"
     ]
    }
   ],
   "source": [
    "from sklearn.model_selection import cross_val_score\n",
    "results = {}\n",
    "\n",
    "for model_name, model in modelos.items():\n",
    "    # Aplicamos el cross validation y guardamos los resultados del accuracy (metica de performance)\n",
    "    cv_results = cross_val_score(model, X, y, cv=kf, scoring='accuracy')\n",
    "    results[model_name] = np.mean(cv_results)  \n",
    "    \n",
    "#resultados\n",
    "for model_name, accuracy in results.items():\n",
    "    print(f\"{model_name}: Accuracy = {accuracy:.4f}\")\n"
   ]
  },
  {
   "cell_type": "code",
   "execution_count": 43,
   "metadata": {},
   "outputs": [
    {
     "name": "stdout",
     "output_type": "stream",
     "text": [
      "\n",
      "El mejor modelo es: Random Forest con un accuracy de 0.9613\n"
     ]
    }
   ],
   "source": [
    "#Seleccionamos el mejor modelo\n",
    "mejor_modelo = max(results, key=results.get)\n",
    "print(f\"\\nEl mejor modelo es: {mejor_modelo} con un accuracy de {results[mejor_modelo]:.4f}\")"
   ]
  },
  {
   "cell_type": "markdown",
   "metadata": {},
   "source": [
    "### Curvas de aprendizaje\n",
    "\n",
    "Las curvas de aprendizaje muestran cómo el error del modelo varía con el tamaño del conjunto de entrenamiento. Son útiles para identificar si el modelo sufre de underfitting o overfitting.\n",
    "\n",
    "- Underfitting: Tanto el error de entrenamiento como el de validación son altos.\n",
    "- Overfitting: El error de entrenamiento es bajo, pero el error de validación es alto.\n",
    "- Balanceado: Ambos errores son bajos y cercanos."
   ]
  },
  {
   "cell_type": "code",
   "execution_count": 44,
   "metadata": {},
   "outputs": [
    {
     "data": {
      "image/png": "[encoded data removed]",
      "text/plain": [
       "<Figure size 640x480 with 1 Axes>"
      ]
     },
     "metadata": {},
     "output_type": "display_data"
    }
   ],
   "source": [
    "from sklearn.model_selection import learning_curve\n",
    "\n",
    "#sabemos que el random forest es el mejor modelo \n",
    "model = RandomForestClassifier()\n",
    "\n",
    "train_sizes, train_scores, valid_scores = learning_curve(\n",
    "    model, X, y, cv=5, scoring='accuracy', train_sizes=np.linspace(0.1, 1.0, 10)\n",
    ")\n",
    "\n",
    "plt.plot(train_sizes, train_scores.mean(axis=1), label='Entrenamiento')\n",
    "plt.plot(train_sizes, valid_scores.mean(axis=1), label='Validación')\n",
    "plt.xlabel('Tamaño del conjunto de entrenamiento')\n",
    "plt.ylabel('Accuracy')\n",
    "plt.legend()\n",
    "plt.show()"
   ]
  },
  {
   "cell_type": "markdown",
   "metadata": {},
   "source": [
    "**Conclusion**\n",
    "\n",
    "Una solucion posible es aplicar regularización para penalizar los coeficientes más grandes y reducir la complejidad del modelo. \n",
    "Evaluar modelos alternativos.\n"
   ]
  },
  {
   "cell_type": "markdown",
   "metadata": {},
   "source": [
    "\n",
    "\n",
    "### Ejemplo: Selección de variables\n",
    "\n"
   ]
  },
  {
   "cell_type": "code",
   "execution_count": 45,
   "metadata": {},
   "outputs": [],
   "source": [
    "import matplotlib.pyplot as plt\n",
    "import seaborn as sns\n",
    "\n",
    "import sklearn\n",
    "from sklearn.model_selection import cross_val_score\n",
    "from sklearn.feature_selection import SelectKBest, f_classif\n",
    "np.random.seed(6450345)"
   ]
  },
  {
   "cell_type": "code",
   "execution_count": 46,
   "metadata": {},
   "outputs": [
    {
     "data": {
      "text/plain": [
       "(569, 30)"
      ]
     },
     "execution_count": 46,
     "metadata": {},
     "output_type": "execute_result"
    }
   ],
   "source": [
    "X.shape"
   ]
  },
  {
   "cell_type": "code",
   "execution_count": 47,
   "metadata": {},
   "outputs": [
    {
     "name": "stdout",
     "output_type": "stream",
     "text": [
      "Metricas en cada muestra:\n",
      "[0.90350877 0.92105263 0.97368421 0.93859649 0.96460177]\n",
      "Metrica promedio e incertidumbre: (94.03 +- 1.172)%\n"
     ]
    }
   ],
   "source": [
    "#CÓMO NO SE HACE\n",
    "#primero seleccionar variables y después entreno modelo\n",
    "#creación de datos\n",
    "\n",
    "#Seleccionemos las 20 características con la mayor correlación\n",
    "select = SelectKBest(score_func=f_classif, k=10)\n",
    "X_selected = select.fit_transform(X,y)\n",
    "\n",
    "#Creamos modelo\n",
    "clf = RandomForestClassifier()\n",
    "scores = cross_val_score(clf, X_selected, y, cv=5)\n",
    "\n",
    "print (\"Metricas en cada muestra:\")\n",
    "print(scores)\n",
    "avg = (100*np.mean(scores), 100*np.std(scores)/np.sqrt(scores.shape[0]))\n",
    "print(\"Metrica promedio e incertidumbre: (%.2f +- %.3f)%%\"%avg)"
   ]
  },
  {
   "cell_type": "code",
   "execution_count": 48,
   "metadata": {},
   "outputs": [
    {
     "name": "stdout",
     "output_type": "stream",
     "text": [
      "Metricas en cada muestra:\n",
      "[0.9122807  0.92982456 0.98245614 0.93859649 0.96460177]\n",
      "Metrica promedio e incertidumbre: (94.56 +- 1.118)%\n"
     ]
    }
   ],
   "source": [
    "#COMO SÍ SE HACE\n",
    "#dividir train test en cada fold\n",
    "#seleccionar variables\n",
    "\n",
    "from sklearn.pipeline import make_pipeline\n",
    "\n",
    "clf = make_pipeline(SelectKBest(score_func=f_classif, k=10),\n",
    "                    RandomForestClassifier())\n",
    "\n",
    "scores = cross_val_score(clf, X, y, cv=5)\n",
    "\n",
    "print (\"Metricas en cada muestra:\")\n",
    "print(scores)\n",
    "avg = (100*np.mean(scores), 100*np.std(scores)/np.sqrt(scores.shape[0]))\n",
    "print(\"Metrica promedio e incertidumbre: (%.2f +- %.3f)%%\"%avg)"
   ]
  },
  {
   "cell_type": "markdown",
   "metadata": {},
   "source": [
    "La elección de las variables de entrada es sólo una de las muchas elecciones que debe realizar al crear su aplicación de aprendizaje automático. \n",
    "\n",
    "Recuerden tomar todas las decisiones durante el cross validation; de lo contrario, se encontrará con un rudo despertar cuando su modelo se enfrente a datos no vistos por primera vez."
   ]
  },
  {
   "cell_type": "markdown",
   "metadata": {},
   "source": [
    "### Concluyendo\n",
    "\n",
    "- El cross validation repite muchas veces la división aleatoria de conjuntos de prueba y entrenamiento y promedia los resultados\n",
    "- Se puede confiar más en las estimaciones ya que se reduce la varianza asociada a una sola división de conjuntos\n",
    "\n"
   ]
  },
  {
   "cell_type": "markdown",
   "metadata": {},
   "source": [
    "### Referencias\n",
    "\n",
    "https://scikit-learn.org/stable/modules/generated/sklearn.model_selection.train_test_split.html"
   ]
  }
 ],
 "metadata": {
  "kernelspec": {
   "display_name": "Python 3 (ipykernel)",
   "language": "python",
   "name": "python3"
  },
  "language_info": {
   "codemirror_mode": {
    "name": "ipython",
    "version": 3
   },
   "file_extension": ".py",
   "mimetype": "text/x-python",
   "name": "python",
   "nbconvert_exporter": "python",
   "pygments_lexer": "ipython3",
   "version": "3.11.7"
  }
 },
 "nbformat": 4,
 "nbformat_minor": 4
}
